{
 "cells": [
  {
   "cell_type": "markdown",
   "metadata": {},
   "source": [
    "# Covariance matrix prediction using DCC-GARCH"
   ]
  },
  {
   "cell_type": "markdown",
   "metadata": {},
   "source": [
    "This program predicts the covariance matrix of n-securities using DCC-GARCH method. \n",
    "The formulas for this code have been obtained from two papers:\n",
    "\n",
    "1)A test of  Covariance- Matrix Forecasting Methods by VALERIY ZAKAMULIN\n",
    "\n",
    "2)Multivariate DCC-GARCH Model-With Various Error Distributions by Elisabeth Orskaug\n",
    "\n"
   ]
  },
  {
   "cell_type": "markdown",
   "metadata": {},
   "source": [
    "Author:Saeed Rahman\n",
    "\n",
    "Date-2/9/2017"
   ]
  },
  {
   "cell_type": "code",
   "execution_count": 43,
   "metadata": {
    "collapsed": false
   },
   "outputs": [],
   "source": [
    "import numpy as np\n",
    "import pandas as pd\n",
    "from arch import arch_model\n",
    "import math\n",
    "\n",
    "#for demostration purposes, random numbers are taken for the returns\n",
    "stock_returns = pd.Series({'Google':np.random.normal(0, .2, 10),\n",
    "                           'Apple':np.random.normal(0, .2, 10),\n",
    "                           'Ebay':np.random.normal(0, .2, 10)})\n",
    "# 2nd dataset to test\n",
    "# stock_returns=pd.Series({'Google':[.1,.2,-.2,.4],\n",
    "#                           'Apple':[.01,.04,.02,-.07],\n",
    "#                           'Ebay':[.07,-.17,.3,.02],\n",
    "#                         'Exxon':[.1,.2,.3,-.21]})\n",
    "\n",
    "returns=np.array(list(stock_returns.values))\n",
    "initial_numberof_returns=returns[1].size # size of any of the security\n",
    "\n",
    "esubt=[]\n",
    "q_list=[]\n"
   ]
  },
  {
   "cell_type": "code",
   "execution_count": 44,
   "metadata": {
    "collapsed": false
   },
   "outputs": [
    {
     "name": "stdout",
     "output_type": "stream",
     "text": [
      "Iteration:     10,   Func. Count:     68,   Neg. LLF: -9.604280165541626\n",
      "Optimization terminated successfully.    (Exit mode 0)\n",
      "            Current function value: -9.60428165557\n",
      "            Iterations: 11\n",
      "            Function evaluations: 74\n",
      "            Gradient evaluations: 11\n"
     ]
    }
   ],
   "source": [
    "#Calculating the initial values\n",
    "cov_matrix=np.cov(returns)\n",
    "diag=cov_matrix.diagonal()\n",
    "diag_matrix=np.diag(np.diag(cov_matrix))\n",
    "garch11 = arch_model(diag, p=1, q=1)\n",
    "res = garch11.fit(update_freq=10)\n",
    "alpha=res.params[2]\n",
    "beta=res.params[3]\n",
    "\n",
    "esubt.append(np.matmul(np.linalg.inv(diag_matrix),returns))\n",
    "q_list.append(np.ones((stock_returns.size,stock_returns.size)))\n",
    "\n",
    "pred_cov=[]\n",
    "new_returns=[]"
   ]
  },
  {
   "cell_type": "code",
   "execution_count": 45,
   "metadata": {
    "collapsed": false
   },
   "outputs": [],
   "source": [
    "#garch 1,1 forecasting\n",
    "def simulate_GARCH(T, a0, a1, b1, sigma1):\n",
    "    \n",
    "    # Initialize our values\n",
    "    X = np.ndarray(T)\n",
    "    sigma = np.ndarray(T)\n",
    "    sigma[0] = sigma1\n",
    "    \n",
    "    for t in range(1, T):\n",
    "        # Draw the next x_t\n",
    "        X[t - 1] = sigma[t - 1] * np.random.normal(0, 1)\n",
    "        # Draw the next sigma_t\n",
    "        sigma[t] = math.sqrt(a0 + b1 * sigma[t - 1]**2 + a1 * X[t - 1]**2)\n",
    "        \n",
    "    X[T - 1] = sigma[T - 1] * np.random.normal(0, 1)    \n",
    "    \n",
    "    return X, sigma"
   ]
  },
  {
   "cell_type": "code",
   "execution_count": 46,
   "metadata": {
    "collapsed": false
   },
   "outputs": [],
   "source": [
    "#DCC Garch\n",
    "def dccGARCH(returns):    \n",
    "    cov_matrix=np.cov(returns)\n",
    "    diag=cov_matrix.diagonal()\n",
    "    diag_matrix=np.diag(np.diag(cov_matrix))\n",
    "    \n",
    "    garch11 = arch_model(diag, p=1, q=1)\n",
    "    res = garch11.fit(update_freq=10)\n",
    "    alpha=res.params[2]\n",
    "    beta=res.params[3]    \n",
    "    \n",
    "    esubt.append(np.matmul(np.linalg.inv(diag_matrix),returns))\n",
    "    qdash=np.cov(esubt[-2])\n",
    "    q_list.append(((1-alpha-beta)*qdash) + \n",
    "             (alpha*np.matmul(esubt[-2],esubt[-2].T)) + ((beta)*q_list[-1]))\n",
    "    \n",
    "    qstar=np.diag(np.diag(cov_matrix))\n",
    "    qstar=np.sqrt(qstar)\n",
    "    \n",
    "    r=np.matmul(np.linalg.inv(qstar),q_list[-1],np.linalg.inv(qstar))\n",
    "    \n",
    "    pred_cov_temp=np.matmul(diag_matrix,r)\n",
    "    pred_cov.append(np.matmul(pred_cov_temp,diag_matrix))"
   ]
  },
  {
   "cell_type": "code",
   "execution_count": 47,
   "metadata": {
    "collapsed": false
   },
   "outputs": [
    {
     "name": "stdout",
     "output_type": "stream",
     "text": [
      "Optimization terminated successfully.    (Exit mode 0)\n",
      "            Current function value: -7.12137323696\n",
      "            Iterations: 9\n",
      "            Function evaluations: 59\n",
      "            Gradient evaluations: 9\n",
      "Optimization terminated successfully.    (Exit mode 0)\n",
      "            Current function value: -1.47839438947\n",
      "            Iterations: 9\n",
      "            Function evaluations: 59\n",
      "            Gradient evaluations: 9\n",
      "Iteration:     10,   Func. Count:     66,   Neg. LLF: -1.2524323436582045\n",
      "Optimization terminated successfully.    (Exit mode 0)\n",
      "            Current function value: -1.2524378751\n",
      "            Iterations: 11\n",
      "            Function evaluations: 72\n",
      "            Gradient evaluations: 11\n",
      "Optimization terminated successfully.    (Exit mode 0)\n",
      "            Current function value: -0.534050641115\n",
      "            Iterations: 8\n",
      "            Function evaluations: 54\n",
      "            Gradient evaluations: 8\n",
      "[array([ 0.01      ,  0.04      ,  0.02      , -0.07      ,  0.03615405,\n",
      "       -0.02177667, -0.01652622, -0.00371398,  0.02151897]), array([ 0.07      , -0.17      ,  0.3       ,  0.02      ,  0.24353527,\n",
      "        0.24617345,  0.20142561, -0.19277651,  0.0122649 ]), array([ 0.1       ,  0.2       ,  0.3       , -0.21      ,  0.05805861,\n",
      "        0.00510865, -0.0970593 ,  0.15284816,  0.17790008]), array([ 0.1       ,  0.2       , -0.2       ,  0.4       , -0.05542436,\n",
      "       -0.10797339,  0.07999265, -0.0599578 ,  0.09195528])]\n"
     ]
    }
   ],
   "source": [
    "#The returns of each assets are modeled using Garch11, which in needed for the DCC-Garch\n",
    "periods_to_predict=5 #setting the number of periods to predict\n",
    "for n in returns:\n",
    "    garch11 = arch_model(n, p=1, q=1)\n",
    "    res = garch11.fit(update_freq=10)\n",
    "    omega=res.params[1]\n",
    "    alpha=res.params[2]\n",
    "    beta=res.params[3]\n",
    "    sig_ma=np.std(n)  # 1st assumption\n",
    "    return_forecast,sigma_forecast=simulate_GARCH(periods_to_predict,omega,alpha,beta,sig_ma)\n",
    "    n=np.append(n,return_forecast)\n",
    "    new_returns.append(n)\n",
    "    \n",
    "print(new_returns) #returns of the asset in which the forecasted returns are added"
   ]
  },
  {
   "cell_type": "code",
   "execution_count": 48,
   "metadata": {
    "collapsed": false
   },
   "outputs": [
    {
     "name": "stdout",
     "output_type": "stream",
     "text": [
      "Iteration:     10,   Func. Count:     68,   Neg. LLF: -9.604280165541626\n",
      "Optimization terminated successfully.    (Exit mode 0)\n",
      "            Current function value: -9.60428165557\n",
      "            Iterations: 11\n",
      "            Function evaluations: 74\n",
      "            Gradient evaluations: 11\n",
      "Iteration:     10,   Func. Count:     68,   Neg. LLF: -9.604280165541626\n",
      "Optimization terminated successfully.    (Exit mode 0)\n",
      "            Current function value: -9.60428165557\n",
      "            Iterations: 11\n",
      "            Function evaluations: 74\n",
      "            Gradient evaluations: 11\n",
      "Iteration:     10,   Func. Count:     68,   Neg. LLF: -9.604280165541626\n",
      "Optimization terminated successfully.    (Exit mode 0)\n",
      "            Current function value: -9.60428165557\n",
      "            Iterations: 11\n",
      "            Function evaluations: 74\n",
      "            Gradient evaluations: 11\n",
      "Iteration:     10,   Func. Count:     68,   Neg. LLF: -9.604280165541626\n",
      "Optimization terminated successfully.    (Exit mode 0)\n",
      "            Current function value: -9.60428165557\n",
      "            Iterations: 11\n",
      "            Function evaluations: 74\n",
      "            Gradient evaluations: 11\n",
      "Iteration:     10,   Func. Count:     68,   Neg. LLF: -9.604280165541626\n",
      "Optimization terminated successfully.    (Exit mode 0)\n",
      "            Current function value: -9.60428165557\n",
      "            Iterations: 11\n",
      "            Function evaluations: 74\n",
      "            Gradient evaluations: 11\n"
     ]
    }
   ],
   "source": [
    "#Predcition of the covariance matrix by passing in the return values upto the prediction \n",
    "for i in range(initial_numberof_returns,new_returns[1].size): \n",
    "    dccGARCH(returns[:,0:i]) #Assumption 2, selecting the range of returns\n"
   ]
  },
  {
   "cell_type": "code",
   "execution_count": 49,
   "metadata": {
    "collapsed": false
   },
   "outputs": [
    {
     "data": {
      "text/plain": [
       "array([[ 0.0224541 , -0.00383043,  0.09627465, -0.07195966],\n",
       "       [-0.00095718,  0.09348908,  0.03490703, -0.07865717],\n",
       "       [ 0.02107526,  0.03057931,  0.10806054, -0.09257085],\n",
       "       [-0.01390393, -0.06081917, -0.08170743,  0.12427946]])"
      ]
     },
     "execution_count": 49,
     "metadata": {},
     "output_type": "execute_result"
    }
   ],
   "source": [
    "pred_cov[-1] # The predicted covariance matrix of nth period"
   ]
  },
  {
   "cell_type": "markdown",
   "metadata": {},
   "source": [
    "Key assumptions that I am making: \n",
    "\n",
    "1)The initial sigma value for Garch11 model is taken as the standard deviation up till that point \n",
    "\n",
    "2)In modeling the covariance matrix using DCC-Garch, I have taken used the returns till that period from the start."
   ]
  },
  {
   "cell_type": "code",
   "execution_count": null,
   "metadata": {
    "collapsed": true
   },
   "outputs": [],
   "source": []
  }
 ],
 "metadata": {
  "anaconda-cloud": {},
  "kernelspec": {
   "display_name": "Python [conda root]",
   "language": "python",
   "name": "conda-root-py"
  },
  "language_info": {
   "codemirror_mode": {
    "name": "ipython",
    "version": 3
   },
   "file_extension": ".py",
   "mimetype": "text/x-python",
   "name": "python",
   "nbconvert_exporter": "python",
   "pygments_lexer": "ipython3",
   "version": "3.5.2"
  }
 },
 "nbformat": 4,
 "nbformat_minor": 1
}
