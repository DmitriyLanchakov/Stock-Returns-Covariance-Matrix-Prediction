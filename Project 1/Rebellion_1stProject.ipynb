{
 "cells": [
  {
   "cell_type": "code",
   "execution_count": 147,
   "metadata": {
    "collapsed": false
   },
   "outputs": [
    {
     "name": "stdout",
     "output_type": "stream",
     "text": [
      "[[ 0.02   0.01  -0.01 ]\n",
      " [ 0.01   0.005 -0.005]\n",
      " [-0.01  -0.005  0.005]]\n"
     ]
    }
   ],
   "source": [
    "import numpy as np\n",
    "import pandas as pd\n",
    "import math\n",
    "\n",
    "# s=pd.Series({'Google':np.random.normal(0, .2, 10),\n",
    "#                            'Apple':np.random.normal(0, .2, 10),\n",
    "#                            'Ebay':np.random.normal(0, .2, 10)})\n",
    "s = pd.Series({'Google':[.2,.3,.4,-.2], 'Apple': [.3,.1,.3,.4],'Ebay':[.1,.7,-.1,-.2]})\n",
    "x=s.values\n",
    "\n",
    "# x = np.array([[0, 2 , 3], [1, 1, 6], [2, 0, 9]]).T\n",
    "\n",
    "# np.cov(x)\n",
    "# s = pd.Series({'a':[1,2], 'b':[2,3], 'c':[3,5]})\n",
    "# u=np.array(s.values)\n",
    "# u.astype(int)\n",
    "# print(list(s.values))\n",
    "returns=np.array(list(s.values))\n",
    "cov_matrix=np.cov(np.array(list(s.values)))\n",
    "print(cov)"
   ]
  },
  {
   "cell_type": "code",
   "execution_count": 148,
   "metadata": {
    "collapsed": false
   },
   "outputs": [],
   "source": [
    "# ticker= pd.Series({'Google':[1,2,3], 'Apple': [3,6,9], 'AMZN':[8,10,12]})\n",
    "# cov_matrix=np.cov(np.array(list(ticker.values)))"
   ]
  },
  {
   "cell_type": "code",
   "execution_count": 149,
   "metadata": {
    "collapsed": false
   },
   "outputs": [
    {
     "data": {
      "text/plain": [
       "array([[ 0.01583333,  0.        ,  0.        ],\n",
       "       [ 0.        ,  0.1625    ,  0.        ],\n",
       "       [ 0.        ,  0.        ,  0.06916667]])"
      ]
     },
     "execution_count": 149,
     "metadata": {},
     "output_type": "execute_result"
    }
   ],
   "source": [
    "diag=cov_matrix.diagonal()\n",
    "diag_matrix=np.diag(np.diag(cov_matrix)) # gives n*n diagonal matrix\n",
    "diag_matrix"
   ]
  },
  {
   "cell_type": "code",
   "execution_count": 150,
   "metadata": {
    "collapsed": false
   },
   "outputs": [
    {
     "name": "stdout",
     "output_type": "stream",
     "text": [
      "Optimization terminated successfully.    (Exit mode 0)\n",
      "            Current function value: -4.19895560621\n",
      "            Iterations: 6\n",
      "            Function evaluations: 41\n",
      "            Gradient evaluations: 6\n",
      "                     Constant Mean - GARCH Model Results                      \n",
      "==============================================================================\n",
      "Dep. Variable:                      y   R-squared:                      -0.001\n",
      "Mean Model:             Constant Mean   Adj. R-squared:                 -0.001\n",
      "Vol Model:                      GARCH   Log-Likelihood:                4.19896\n",
      "Distribution:                  Normal   AIC:                         -0.397911\n",
      "Method:            Maximum Likelihood   BIC:                          -4.00346\n",
      "                                        No. Observations:                    3\n",
      "Date:                Thu, Feb 09 2017   Df Residuals:                       -1\n",
      "Time:                        19:41:50   Df Model:                            4\n",
      "                                  Mean Model                                  \n",
      "==============================================================================\n",
      "                 coef    std err          t      P>|t|        95.0% Conf. Int.\n",
      "------------------------------------------------------------------------------\n",
      "mu             0.0847  3.838e-03     22.077 5.300e-108   [7.720e-02,9.224e-02]\n",
      "                               Volatility Model                               \n",
      "==============================================================================\n",
      "                 coef    std err          t      P>|t|        95.0% Conf. Int.\n",
      "------------------------------------------------------------------------------\n",
      "omega      1.0445e-10  7.165e-03  1.458e-08      1.000  [-1.404e-02,1.404e-02]\n",
      "alpha[1]   2.2427e-10      1.169  1.919e-10      1.000       [ -2.291,  2.291]\n",
      "beta[1]        0.8696      1.435      0.606      0.544       [ -1.942,  3.681]\n",
      "==============================================================================\n",
      "\n",
      "Covariance estimator: robust\n"
     ]
    }
   ],
   "source": [
    "from arch import arch_model\n",
    "garch11 = arch_model(diag, p=1, q=1)\n",
    "res = garch11.fit(update_freq=10)\n",
    "print(res.summary())"
   ]
  },
  {
   "cell_type": "code",
   "execution_count": 151,
   "metadata": {
    "collapsed": false
   },
   "outputs": [],
   "source": [
    "alpha=res.params[2]\n",
    "beta=res.params[3]\n",
    "# std_err=np.random.normal(0, 1, 3) #epselon is the returns "
   ]
  },
  {
   "cell_type": "code",
   "execution_count": 152,
   "metadata": {
    "collapsed": false
   },
   "outputs": [
    {
     "data": {
      "text/plain": [
       "array([[ 18.94736842,   6.31578947,  18.94736842,  25.26315789],\n",
       "       [  0.61538462,   4.30769231,  -0.61538462,  -1.23076923],\n",
       "       [  2.89156627,   4.3373494 ,   5.78313253,  -2.89156627]])"
      ]
     },
     "execution_count": 152,
     "metadata": {},
     "output_type": "execute_result"
    }
   ],
   "source": [
    "# esubt=np.linalg.inv(diag_matrix)\n",
    "# ret=[.1,.2,.13] # just to see how it works\n",
    "esubt=np.matmul(np.linalg.inv(diag_matrix),returns)\n",
    "# esubt=np.matmul(np.linalg.inv(diag_matrix),returns)\n",
    "esubt"
   ]
  },
  {
   "cell_type": "code",
   "execution_count": 153,
   "metadata": {
    "collapsed": false
   },
   "outputs": [
    {
     "data": {
      "text/plain": [
       "array([[ 63.15789474, -19.10931174, -19.02346227],\n",
       "       [-19.10931174,   6.15384615,   4.22613531],\n",
       "       [-19.02346227,   4.22613531,  14.45783133]])"
      ]
     },
     "execution_count": 153,
     "metadata": {},
     "output_type": "execute_result"
    }
   ],
   "source": [
    "#not sure\n",
    "qdash=np.cov(esubt)\n",
    "q_start=np.ones((3,3))\n",
    "qdash\n",
    "# q_start"
   ]
  },
  {
   "cell_type": "code",
   "execution_count": 154,
   "metadata": {
    "collapsed": false
   },
   "outputs": [
    {
     "data": {
      "text/plain": [
       "array([[ 9.10497541, -1.62212019, -1.61092597],\n",
       "       [-1.62212019,  1.67202718,  1.42066654],\n",
       "       [-1.61092597,  1.42066654,  2.7548115 ]])"
      ]
     },
     "execution_count": 154,
     "metadata": {},
     "output_type": "execute_result"
    }
   ],
   "source": [
    "q=((1-alpha-beta)*qdash) + (alpha*np.matmul(esubt,esubt.T)) + ((beta)*q_start)\n",
    "q"
   ]
  },
  {
   "cell_type": "code",
   "execution_count": 155,
   "metadata": {
    "collapsed": false
   },
   "outputs": [
    {
     "data": {
      "text/plain": [
       "array([[ 0.12583057,  0.        ,  0.        ],\n",
       "       [ 0.        ,  0.40311289,  0.        ],\n",
       "       [ 0.        ,  0.        ,  0.26299556]])"
      ]
     },
     "execution_count": 155,
     "metadata": {},
     "output_type": "execute_result"
    }
   ],
   "source": [
    "# r=np.matmul(np.linalg.inv(qdash),q)\n",
    "qstar=np.diag(np.diag(cov_matrix))\n",
    "qstar=np.sqrt(qstar)\n",
    "qstar"
   ]
  },
  {
   "cell_type": "code",
   "execution_count": 156,
   "metadata": {
    "collapsed": false
   },
   "outputs": [
    {
     "data": {
      "text/plain": [
       "array([[ 72.35900721, -12.89130408, -12.8023414 ],\n",
       "       [ -4.02398495,   4.14778896,   3.52423995],\n",
       "       [ -6.1252971 ,   5.40186504,  10.47474513]])"
      ]
     },
     "execution_count": 156,
     "metadata": {},
     "output_type": "execute_result"
    }
   ],
   "source": [
    "r=np.matmul(np.linalg.inv(qstar),q,np.linalg.inv(qstar))\n",
    "r"
   ]
  },
  {
   "cell_type": "code",
   "execution_count": 157,
   "metadata": {
    "collapsed": false
   },
   "outputs": [
    {
     "name": "stdout",
     "output_type": "stream",
     "text": [
      "[[ 0.01583333  0.          0.        ]\n",
      " [ 0.          0.1625      0.        ]\n",
      " [ 0.          0.          0.06916667]]\n",
      "[[ 0.01814    -0.03316825 -0.01402034]\n",
      " [-0.01035338  0.10952755  0.03961099]\n",
      " [-0.00670805  0.06071471  0.05011147]]\n"
     ]
    }
   ],
   "source": [
    "diag_matrix=np.diag(np.diag(cov_matrix))\n",
    "print(diag_matrix)\n",
    "predi_cov=np.matmul(diag_matrix,r)\n",
    "predi_cov=np.matmul(predi_cov,diag_matrix)\n",
    "print(predi_cov)"
   ]
  },
  {
   "cell_type": "code",
   "execution_count": 200,
   "metadata": {
    "collapsed": false
   },
   "outputs": [
    {
     "name": "stdout",
     "output_type": "stream",
     "text": [
      "Optimization terminated successfully.    (Exit mode 0)\n",
      "            Current function value: -8.51957264122\n",
      "            Iterations: 9\n",
      "            Function evaluations: 60\n",
      "            Gradient evaluations: 7\n",
      "[[ 0.06273415 -0.01739813  0.02091096]\n",
      " [-0.04173074  0.02392369  0.00585069]\n",
      " [ 0.03254832  0.00379672  0.03786037]]\n",
      "4\n",
      "\n",
      "\n",
      "Optimization terminated successfully.    (Exit mode 0)\n",
      "            Current function value: -8.51957264122\n",
      "            Iterations: 9\n",
      "            Function evaluations: 60\n",
      "            Gradient evaluations: 7\n",
      "[[ 0.10195575 -0.0311977   0.03347009]\n",
      " [-0.07483004  0.04088156  0.00899802]\n",
      " [ 0.05209686  0.00583913  0.06372222]]\n",
      "5\n",
      "\n",
      "\n",
      "Optimization terminated successfully.    (Exit mode 0)\n",
      "            Current function value: -8.51957264122\n",
      "            Iterations: 9\n",
      "            Function evaluations: 60\n",
      "            Gradient evaluations: 7\n",
      "[[ 0.1305268  -0.04125002  0.04261881]\n",
      " [-0.09894129  0.05323456  0.01129069]\n",
      " [ 0.06633703  0.00732693  0.08256135]]\n",
      "6\n",
      "\n",
      "\n",
      "Optimization terminated successfully.    (Exit mode 0)\n",
      "            Current function value: -8.51957264122\n",
      "            Iterations: 9\n",
      "            Function evaluations: 60\n",
      "            Gradient evaluations: 7\n",
      "[[ 0.15133945 -0.04857265  0.04928322]\n",
      " [-0.11650518  0.06223313  0.0129608 ]\n",
      " [ 0.07671032  0.00841072  0.09628474]]\n",
      "7\n",
      "\n",
      "\n",
      "Optimization terminated successfully.    (Exit mode 0)\n",
      "            Current function value: -8.51957264122\n",
      "            Iterations: 9\n",
      "            Function evaluations: 60\n",
      "            Gradient evaluations: 7\n",
      "[[ 0.16650046 -0.05390684  0.05413793]\n",
      " [-0.12929964  0.06878816  0.01417739]\n",
      " [ 0.08426676  0.0092002   0.10628158]]\n",
      "8\n",
      "\n",
      "\n",
      "Optimization terminated successfully.    (Exit mode 0)\n",
      "            Current function value: -8.51957264122\n",
      "            Iterations: 9\n",
      "            Function evaluations: 60\n",
      "            Gradient evaluations: 7\n",
      "[[ 0.17754454 -0.05779254  0.05767435]\n",
      " [-0.13861979  0.07356318  0.01506362]\n",
      " [ 0.08977127  0.00977531  0.1135638 ]]\n",
      "9\n",
      "\n",
      "\n"
     ]
    }
   ],
   "source": [
    "stock_returns = pd.Series({'Google':np.random.normal(0, .2, 10),\n",
    "                           'Apple':np.random.normal(0, .2, 10),\n",
    "                           'Ebay':np.random.normal(0, .2, 10)})\n",
    "\n",
    "\n",
    "returns=np.array(list(stock_returns.values))\n",
    "returns=returns[:,0:3]\n",
    "\n",
    "#inititial condition setting esubt and q\n",
    "esubt=[]\n",
    "q_list=[]\n",
    "\n",
    "cov_matrix=np.cov(returns)\n",
    "diag=cov_matrix.diagonal()\n",
    "diag_matrix=np.diag(np.diag(cov_matrix))\n",
    "garch11 = arch_model(diag, p=1, q=1)\n",
    "res = garch11.fit(update_freq=10)\n",
    "alpha=res.params[2]\n",
    "beta=res.params[3]\n",
    "\n",
    "esubt.append(np.matmul(np.linalg.inv(diag_matrix),returns))\n",
    "q_list.append(np.ones((3,3)))\n",
    "pred_cov=[]\n",
    "\n",
    "print(esubt)\n",
    "\n",
    "def dccGARCH(returns):    \n",
    "    cov_matrix=np.cov(returns)\n",
    "    diag=cov_matrix.diagonal()\n",
    "    diag_matrix=np.diag(np.diag(cov_matrix))\n",
    "    \n",
    "    garch11 = arch_model(diag, p=1, q=1)\n",
    "    res = garch11.fit(update_freq=10)\n",
    "    alpha=res.params[2]\n",
    "    beta=res.params[3]    \n",
    "    \n",
    "    esubt.append(np.matmul(np.linalg.inv(diag_matrix),returns))\n",
    "#     print(esubt)\n",
    "#     print('\\n')\n",
    "#     print(np.matmul(esubt[-2],esubt[-2].T))\n",
    "    qdash=np.cov(esubt[-2])\n",
    "#    q_start=np.ones((3,3))\n",
    "    \n",
    "    q_list.append(((1-alpha-beta)*qdash) + \n",
    "             (alpha*np.matmul(esubt[-2],esubt[-2].T)) + ((beta)*q_list[-1]))\n",
    "    \n",
    "#     print(\"&&&&&\")\n",
    "    \n",
    "    qstar=np.diag(np.diag(cov_matrix))\n",
    "    qstar=np.sqrt(qstar)\n",
    "    \n",
    "    r=np.matmul(np.linalg.inv(qstar),q_list[-1],np.linalg.inv(qstar))\n",
    "    \n",
    "    pred_cov_temp=np.matmul(diag_matrix,r)\n",
    "    pred_cov.append(np.matmul(pred_cov_temp,diag_matrix))\n",
    "    \n",
    "    print(pred_cov[-1])\n",
    "    print(i)\n",
    "    print('\\n')\n",
    "    \n",
    "\n",
    "# dccGARCH(returns[:,0:4])\n",
    "for i in range(4,10):\n",
    "    dccGARCH(returns[:,0:i])"
   ]
  },
  {
   "cell_type": "code",
   "execution_count": 203,
   "metadata": {
    "collapsed": false
   },
   "outputs": [
    {
     "data": {
      "text/plain": [
       "array([[ 0.0603572 ,  0.01057508,  0.01718304],\n",
       "       [ 0.01057508,  0.03263117,  0.005009  ],\n",
       "       [ 0.01718304,  0.005009  ,  0.02844886]])"
      ]
     },
     "execution_count": 203,
     "metadata": {},
     "output_type": "execute_result"
    }
   ],
   "source": [
    "returns=np.array(list(stock_returns.values))\n",
    "returns=returns[:,0:9]\n",
    "np.cov(returns)"
   ]
  },
  {
   "cell_type": "code",
   "execution_count": 228,
   "metadata": {
    "collapsed": true
   },
   "outputs": [],
   "source": [
    "def simulate_GARCH(T, a0, a1, b1, sigma1):\n",
    "    \n",
    "    # Initialize our values\n",
    "    X = np.ndarray(T)\n",
    "    sigma = np.ndarray(T)\n",
    "    sigma[0] = sigma1\n",
    "    \n",
    "    for t in range(1, T):\n",
    "        # Draw the next x_t\n",
    "        X[t - 1] = sigma[t - 1] * np.random.normal(0, 1)\n",
    "        # Draw the next sigma_t\n",
    "        sigma[t] = math.sqrt(a0 + b1 * sigma[t - 1]**2 + a1 * X[t - 1]**2)\n",
    "        \n",
    "    X[T - 1] = sigma[T - 1] * np.random.normal(0, 1)    \n",
    "    \n",
    "    return X, sigma\n"
   ]
  },
  {
   "cell_type": "code",
   "execution_count": 246,
   "metadata": {
    "collapsed": false
   },
   "outputs": [
    {
     "name": "stdout",
     "output_type": "stream",
     "text": [
      "[  2.13216817e-01   4.77533758e-01   6.90381080e-02  -3.56626430e-01\n",
      "  -3.00779093e-04   2.18676403e-01   1.25725657e-01   2.39171224e-01\n",
      "  -1.73323174e-01   1.06894238e-01]\n",
      "\n",
      "\n",
      "[ 0.25260784  0.08397638  0.20074615 -0.14971016  0.24701735  0.40326562\n",
      "  0.05894982  0.27389894  0.43160178 -0.17473239]\n",
      "\n",
      "\n",
      "[ 0.09647014  0.00516876 -0.165731   -0.26642407 -0.1077995  -0.05988453\n",
      "  0.3254212  -0.02651457  0.03284334  0.11616235]\n",
      "\n",
      "\n",
      "[ 0.25260784  0.08397638  0.20074615 -0.14971016  0.24701735  0.40326562\n",
      "  0.05894982  0.27389894  0.43160178 -0.17473239]\n",
      "Optimization terminated successfully.    (Exit mode 0)\n",
      "            Current function value: -2.26601657678\n",
      "            Iterations: 8\n",
      "            Function evaluations: 54\n",
      "            Gradient evaluations: 8\n",
      "                     Constant Mean - GARCH Model Results                      \n",
      "==============================================================================\n",
      "Dep. Variable:                      y   R-squared:                      -0.000\n",
      "Mean Model:             Constant Mean   Adj. R-squared:                 -0.000\n",
      "Vol Model:                      GARCH   Log-Likelihood:                2.26602\n",
      "Distribution:                  Normal   AIC:                           3.46797\n",
      "Method:            Maximum Likelihood   BIC:                           4.67831\n",
      "                                        No. Observations:                   10\n",
      "Date:                Thu, Feb 09 2017   Df Residuals:                        6\n",
      "Time:                        22:27:26   Df Model:                            4\n",
      "                                  Mean Model                                  \n",
      "==============================================================================\n",
      "                 coef    std err          t      P>|t|        95.0% Conf. Int.\n",
      "------------------------------------------------------------------------------\n",
      "mu             0.1630  7.964e-02      2.047  4.069e-02     [6.909e-03,  0.319]\n",
      "                               Volatility Model                               \n",
      "==============================================================================\n",
      "                 coef    std err          t      P>|t|        95.0% Conf. Int.\n",
      "------------------------------------------------------------------------------\n",
      "omega      1.7068e-03  2.504e-02  6.817e-02      0.946  [-4.737e-02,5.078e-02]\n",
      "alpha[1]   5.6652e-17      0.494  1.147e-16      1.000       [ -0.968,  0.968]\n",
      "beta[1]        1.0000      0.658      1.519      0.129       [ -0.290,  2.290]\n",
      "==============================================================================\n",
      "\n",
      "Covariance estimator: robust\n"
     ]
    }
   ],
   "source": [
    "returns=np.array(list(stock_returns.values))\n",
    "returns[1]\n",
    "print(returns[1])\n",
    "garch11 = arch_model(returns[1], p=1, q=1)\n",
    "res = garch11.fit(update_freq=10)\n",
    "print(res.summary())"
   ]
  },
  {
   "cell_type": "code",
   "execution_count": 240,
   "metadata": {
    "collapsed": false
   },
   "outputs": [
    {
     "data": {
      "text/plain": [
       "array([ 0.04201855,  0.06044578, -0.68989632, -0.16610597, -0.00166613])"
      ]
     },
     "execution_count": 240,
     "metadata": {},
     "output_type": "execute_result"
    }
   ],
   "source": [
    "import math\n",
    "omega=res.params[1]\n",
    "alpha=res.params[2]\n",
    "beta=res.params[3]\n",
    "# sig_ma=np.sqrt(np.mean(returns[1]))\n",
    "sig_ma=np.std(returns[1])  # Assumption that I am making\n",
    "# print(sigma)\n",
    "# sig_ma=0\n",
    "# sigma = math.sqrt(omega / (1 - alpha - beta))\n",
    "return_forecast,sigma_forecast=simulate_GARCH(5,omega,alpha,beta,sig_ma)\n",
    "return_forecast\n"
   ]
  },
  {
   "cell_type": "code",
   "execution_count": 243,
   "metadata": {
    "collapsed": false
   },
   "outputs": [
    {
     "data": {
      "text/plain": [
       "array([ 0.25260784,  0.08397638,  0.20074615, -0.14971016,  0.24701735,\n",
       "        0.40326562,  0.05894982,  0.27389894,  0.43160178, -0.17473239,\n",
       "        0.04201855,  0.06044578, -0.68989632, -0.16610597, -0.00166613])"
      ]
     },
     "execution_count": 243,
     "metadata": {},
     "output_type": "execute_result"
    }
   ],
   "source": [
    "np.append(returns[1],return_forecast)"
   ]
  }
 ],
 "metadata": {
  "anaconda-cloud": {},
  "kernelspec": {
   "display_name": "Python [conda root]",
   "language": "python",
   "name": "conda-root-py"
  },
  "language_info": {
   "codemirror_mode": {
    "name": "ipython",
    "version": 3
   },
   "file_extension": ".py",
   "mimetype": "text/x-python",
   "name": "python",
   "nbconvert_exporter": "python",
   "pygments_lexer": "ipython3",
   "version": "3.5.2"
  }
 },
 "nbformat": 4,
 "nbformat_minor": 1
}
