{
 "cells": [
  {
   "cell_type": "code",
   "execution_count": 20,
   "metadata": {
    "collapsed": false
   },
   "outputs": [
    {
     "name": "stdout",
     "output_type": "stream",
     "text": [
      "[[1, 2], [2, 3], [3, 5]]\n"
     ]
    },
    {
     "data": {
      "text/plain": [
       "array([[ 0.5,  0.5,  1. ],\n",
       "       [ 0.5,  0.5,  1. ],\n",
       "       [ 1. ,  1. ,  2. ]])"
      ]
     },
     "execution_count": 20,
     "metadata": {},
     "output_type": "execute_result"
    }
   ],
   "source": [
    "import numpy as np\n",
    "import pandas as pd\n",
    "\n",
    "s = pd.Series({'Google':[1,2,3], 'Apple': [2,4,5]})\n",
    "\n",
    "x=s.values\n",
    "\n",
    "x = np.array([[0, 2 , 3], [1, 1, 6], [2, 0, 9]]).T\n",
    "\n",
    "np.cov(x)\n",
    "s = pd.Series({'a':[1,2], 'b':[2,3], 'c':[3,5]})\n",
    "u=np.array(s.values)\n",
    "# u.astype(int)\n",
    "print(list(s.values))\n",
    "returns=np.array(list(s.values))\n",
    "np.cov(np.array(list(s.values)))\n"
   ]
  },
  {
   "cell_type": "code",
   "execution_count": 5,
   "metadata": {
    "collapsed": false
   },
   "outputs": [],
   "source": [
    "ticker= pd.Series({'Google':[1,2,3], 'Apple': [3,6,9], 'AMZN':[8,10,12]})\n",
    "cov_matrix=np.cov(np.array(list(ticker.values)))"
   ]
  },
  {
   "cell_type": "code",
   "execution_count": 6,
   "metadata": {
    "collapsed": false
   },
   "outputs": [],
   "source": [
    "diag=cov_matrix.diagonal()\n",
    "diag_matrix=np.diag(np.diag(cov_matrix)) # gives n*n diagonal matrix"
   ]
  },
  {
   "cell_type": "code",
   "execution_count": 7,
   "metadata": {
    "collapsed": false
   },
   "outputs": [
    {
     "name": "stdout",
     "output_type": "stream",
     "text": [
      "Iteration:     10,   Func. Count:     61,   Neg. LLF: 7.82206972268501\n",
      "Optimization terminated successfully.    (Exit mode 0)\n",
      "            Current function value: 7.81243826688\n",
      "            Iterations: 15\n",
      "            Function evaluations: 92\n",
      "            Gradient evaluations: 15\n",
      "                     Constant Mean - GARCH Model Results                      \n",
      "==============================================================================\n",
      "Dep. Variable:                      y   R-squared:                      -0.000\n",
      "Mean Model:             Constant Mean   Adj. R-squared:                 -0.000\n",
      "Vol Model:                      GARCH   Log-Likelihood:               -7.81244\n",
      "Distribution:                  Normal   AIC:                           23.6249\n",
      "Method:            Maximum Likelihood   BIC:                           20.0193\n",
      "                                        No. Observations:                    3\n",
      "Date:                Thu, Feb 09 2017   Df Residuals:                       -1\n",
      "Time:                        08:16:25   Df Model:                            4\n",
      "                                  Mean Model                                  \n",
      "==============================================================================\n",
      "                 coef    std err          t      P>|t|        95.0% Conf. Int.\n",
      "------------------------------------------------------------------------------\n",
      "mu             4.7333      1.469      3.222  1.271e-03       [  1.854,  7.612]\n",
      "                               Volatility Model                               \n",
      "==============================================================================\n",
      "                 coef    std err          t      P>|t|        95.0% Conf. Int.\n",
      "------------------------------------------------------------------------------\n",
      "omega          0.9290     71.243  1.304e-02      0.990  [-1.387e+02,1.406e+02]\n",
      "alpha[1]       0.0000      2.720      0.000      1.000       [ -5.331,  5.331]\n",
      "beta[1]        1.0000      4.603      0.217      0.828       [ -8.022, 10.022]\n",
      "==============================================================================\n",
      "\n",
      "Covariance estimator: robust\n"
     ]
    }
   ],
   "source": [
    "from arch import arch_model\n",
    "garch11 = arch_model(diag, p=1, q=1)\n",
    "res = garch11.fit(update_freq=10)\n",
    "print(res.summary())"
   ]
  },
  {
   "cell_type": "code",
   "execution_count": 8,
   "metadata": {
    "collapsed": false
   },
   "outputs": [],
   "source": [
    "alpha=res.params[2]\n",
    "beta=res.params[3]\n",
    "# std_err=np.random.normal(0, 1, 3) #epselon is the returns "
   ]
  },
  {
   "cell_type": "code",
   "execution_count": 23,
   "metadata": {
    "collapsed": false
   },
   "outputs": [
    {
     "ename": "ValueError",
     "evalue": "operands could not be broadcast together with shapes (3,3) (3,2) ",
     "output_type": "error",
     "traceback": [
      "\u001b[0;31m---------------------------------------------------------------------------\u001b[0m",
      "\u001b[0;31mValueError\u001b[0m                                Traceback (most recent call last)",
      "\u001b[0;32m<ipython-input-23-efcc901ff7c2>\u001b[0m in \u001b[0;36m<module>\u001b[0;34m()\u001b[0m\n\u001b[1;32m      1\u001b[0m \u001b[1;31m# esubt=np.linalg.inv(diag_matrix)\u001b[0m\u001b[1;33m\u001b[0m\u001b[1;33m\u001b[0m\u001b[0m\n\u001b[0;32m----> 2\u001b[0;31m \u001b[0mesubt\u001b[0m\u001b[1;33m=\u001b[0m\u001b[0mnp\u001b[0m\u001b[1;33m.\u001b[0m\u001b[0mlinalg\u001b[0m\u001b[1;33m.\u001b[0m\u001b[0minv\u001b[0m\u001b[1;33m(\u001b[0m\u001b[0mdiag_matrix\u001b[0m\u001b[1;33m)\u001b[0m\u001b[1;33m*\u001b[0m\u001b[0mreturns\u001b[0m\u001b[1;33m\u001b[0m\u001b[0m\n\u001b[0m\u001b[1;32m      3\u001b[0m \u001b[0mesubt\u001b[0m\u001b[1;33m\u001b[0m\u001b[0m\n",
      "\u001b[0;31mValueError\u001b[0m: operands could not be broadcast together with shapes (3,3) (3,2) "
     ]
    }
   ],
   "source": [
    "# esubt=np.linalg.inv(diag_matrix)\n",
    "esubt=np.linalg.inv(diag_matrix)*returns\n",
    "esubt"
   ]
  },
  {
   "cell_type": "code",
   "execution_count": 13,
   "metadata": {
    "collapsed": false
   },
   "outputs": [
    {
     "data": {
      "text/plain": [
       "array([[ 0.00332015,  0.00122218,  0.00381816],\n",
       "       [ 0.00122218,  0.0017996 , -0.00281101],\n",
       "       [ 0.00381816, -0.00281101,  0.01756344]])"
      ]
     },
     "execution_count": 13,
     "metadata": {},
     "output_type": "execute_result"
    }
   ],
   "source": [
    "#not sure\n",
    "qdash=np.cov(esubt)\n",
    "qdash"
   ]
  },
  {
   "cell_type": "code",
   "execution_count": null,
   "metadata": {
    "collapsed": true
   },
   "outputs": [],
   "source": [
    "q=((1-alpha-beta)*qdash) + (alpha*esubt*esubt.T) + (beta)"
   ]
  },
  {
   "cell_type": "code",
   "execution_count": 19,
   "metadata": {
    "collapsed": false
   },
   "outputs": [
    {
     "data": {
      "text/plain": [
       "array([[1, 2],\n",
       "       [2, 3],\n",
       "       [3, 5]])"
      ]
     },
     "execution_count": 19,
     "metadata": {},
     "output_type": "execute_result"
    }
   ],
   "source": [
    "np.array(list(s.values))"
   ]
  }
 ],
 "metadata": {
  "anaconda-cloud": {},
  "kernelspec": {
   "display_name": "Python [conda root]",
   "language": "python",
   "name": "conda-root-py"
  },
  "language_info": {
   "codemirror_mode": {
    "name": "ipython",
    "version": 3
   },
   "file_extension": ".py",
   "mimetype": "text/x-python",
   "name": "python",
   "nbconvert_exporter": "python",
   "pygments_lexer": "ipython3",
   "version": "3.5.2"
  }
 },
 "nbformat": 4,
 "nbformat_minor": 1
}
