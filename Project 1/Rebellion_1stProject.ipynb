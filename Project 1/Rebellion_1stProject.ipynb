{
 "cells": [
  {
   "cell_type": "code",
   "execution_count": 109,
   "metadata": {
    "collapsed": false
   },
   "outputs": [
    {
     "name": "stdout",
     "output_type": "stream",
     "text": [
      "[[ 0.02   0.01  -0.01 ]\n",
      " [ 0.01   0.005 -0.005]\n",
      " [-0.01  -0.005  0.005]]\n"
     ]
    }
   ],
   "source": [
    "import numpy as np\n",
    "import pandas as pd\n",
    "\n",
    "s = pd.Series({'Google':[.2,.3,.4,-.2], 'Apple': [.3,.1,.3,.4],'Ebay':[.1,.7,-.1,-.2]})\n",
    "x=s.values\n",
    "\n",
    "# x = np.array([[0, 2 , 3], [1, 1, 6], [2, 0, 9]]).T\n",
    "\n",
    "# np.cov(x)\n",
    "# s = pd.Series({'a':[1,2], 'b':[2,3], 'c':[3,5]})\n",
    "# u=np.array(s.values)\n",
    "# u.astype(int)\n",
    "# print(list(s.values))\n",
    "returns=np.array(list(s.values))\n",
    "cov_matrix=np.cov(np.array(list(s.values)))\n",
    "print(cov)"
   ]
  },
  {
   "cell_type": "code",
   "execution_count": 110,
   "metadata": {
    "collapsed": false
   },
   "outputs": [],
   "source": [
    "# ticker= pd.Series({'Google':[1,2,3], 'Apple': [3,6,9], 'AMZN':[8,10,12]})\n",
    "# cov_matrix=np.cov(np.array(list(ticker.values)))"
   ]
  },
  {
   "cell_type": "code",
   "execution_count": 111,
   "metadata": {
    "collapsed": false
   },
   "outputs": [
    {
     "data": {
      "text/plain": [
       "array([[ 0.01583333,  0.        ,  0.        ],\n",
       "       [ 0.        ,  0.1625    ,  0.        ],\n",
       "       [ 0.        ,  0.        ,  0.06916667]])"
      ]
     },
     "execution_count": 111,
     "metadata": {},
     "output_type": "execute_result"
    }
   ],
   "source": [
    "diag=cov_matrix.diagonal()\n",
    "diag_matrix=np.diag(np.diag(cov_matrix)) # gives n*n diagonal matrix\n",
    "diag_matrix"
   ]
  },
  {
   "cell_type": "code",
   "execution_count": 112,
   "metadata": {
    "collapsed": false
   },
   "outputs": [
    {
     "name": "stdout",
     "output_type": "stream",
     "text": [
      "Optimization terminated successfully.    (Exit mode 0)\n",
      "            Current function value: -4.19895560621\n",
      "            Iterations: 6\n",
      "            Function evaluations: 41\n",
      "            Gradient evaluations: 6\n",
      "                     Constant Mean - GARCH Model Results                      \n",
      "==============================================================================\n",
      "Dep. Variable:                      y   R-squared:                      -0.001\n",
      "Mean Model:             Constant Mean   Adj. R-squared:                 -0.001\n",
      "Vol Model:                      GARCH   Log-Likelihood:                4.19896\n",
      "Distribution:                  Normal   AIC:                         -0.397911\n",
      "Method:            Maximum Likelihood   BIC:                          -4.00346\n",
      "                                        No. Observations:                    3\n",
      "Date:                Thu, Feb 09 2017   Df Residuals:                       -1\n",
      "Time:                        18:30:12   Df Model:                            4\n",
      "                                  Mean Model                                  \n",
      "==============================================================================\n",
      "                 coef    std err          t      P>|t|        95.0% Conf. Int.\n",
      "------------------------------------------------------------------------------\n",
      "mu             0.0847  3.838e-03     22.077 5.300e-108   [7.720e-02,9.224e-02]\n",
      "                               Volatility Model                               \n",
      "==============================================================================\n",
      "                 coef    std err          t      P>|t|        95.0% Conf. Int.\n",
      "------------------------------------------------------------------------------\n",
      "omega      1.0445e-10  7.165e-03  1.458e-08      1.000  [-1.404e-02,1.404e-02]\n",
      "alpha[1]   2.2427e-10      1.169  1.919e-10      1.000       [ -2.291,  2.291]\n",
      "beta[1]        0.8696      1.435      0.606      0.544       [ -1.942,  3.681]\n",
      "==============================================================================\n",
      "\n",
      "Covariance estimator: robust\n"
     ]
    }
   ],
   "source": [
    "from arch import arch_model\n",
    "garch11 = arch_model(diag, p=1, q=1)\n",
    "res = garch11.fit(update_freq=10)\n",
    "print(res.summary())"
   ]
  },
  {
   "cell_type": "code",
   "execution_count": 113,
   "metadata": {
    "collapsed": false
   },
   "outputs": [],
   "source": [
    "alpha=res.params[2]\n",
    "beta=res.params[3]\n",
    "# std_err=np.random.normal(0, 1, 3) #epselon is the returns "
   ]
  },
  {
   "cell_type": "code",
   "execution_count": 114,
   "metadata": {
    "collapsed": false
   },
   "outputs": [
    {
     "data": {
      "text/plain": [
       "array([[ 18.94736842,   6.31578947,  18.94736842,  25.26315789],\n",
       "       [  0.61538462,   4.30769231,  -0.61538462,  -1.23076923],\n",
       "       [  2.89156627,   4.3373494 ,   5.78313253,  -2.89156627]])"
      ]
     },
     "execution_count": 114,
     "metadata": {},
     "output_type": "execute_result"
    }
   ],
   "source": [
    "# esubt=np.linalg.inv(diag_matrix)\n",
    "# ret=[.1,.2,.13] # just to see how it works\n",
    "esubt=np.matmul(np.linalg.inv(diag_matrix),returns)\n",
    "# esubt=np.matmul(np.linalg.inv(diag_matrix),returns)\n",
    "esubt"
   ]
  },
  {
   "cell_type": "code",
   "execution_count": 115,
   "metadata": {
    "collapsed": false
   },
   "outputs": [
    {
     "data": {
      "text/plain": [
       "array([[ 63.15789474, -19.10931174, -19.02346227],\n",
       "       [-19.10931174,   6.15384615,   4.22613531],\n",
       "       [-19.02346227,   4.22613531,  14.45783133]])"
      ]
     },
     "execution_count": 115,
     "metadata": {},
     "output_type": "execute_result"
    }
   ],
   "source": [
    "#not sure\n",
    "qdash=np.cov(esubt)\n",
    "q_start=np.ones((3,3))\n",
    "qdash\n",
    "# q_start"
   ]
  },
  {
   "cell_type": "code",
   "execution_count": 116,
   "metadata": {
    "collapsed": false
   },
   "outputs": [
    {
     "data": {
      "text/plain": [
       "array([[ 9.10497541, -1.62212019, -1.61092597],\n",
       "       [-1.62212019,  1.67202718,  1.42066654],\n",
       "       [-1.61092597,  1.42066654,  2.7548115 ]])"
      ]
     },
     "execution_count": 116,
     "metadata": {},
     "output_type": "execute_result"
    }
   ],
   "source": [
    "q=((1-alpha-beta)*qdash) + (alpha*np.matmul(esubt,esubt.T)) + ((beta)*q_start)\n",
    "q"
   ]
  },
  {
   "cell_type": "code",
   "execution_count": 117,
   "metadata": {
    "collapsed": false
   },
   "outputs": [
    {
     "data": {
      "text/plain": [
       "array([[ 0.12583057,  0.        ,  0.        ],\n",
       "       [ 0.        ,  0.40311289,  0.        ],\n",
       "       [ 0.        ,  0.        ,  0.26299556]])"
      ]
     },
     "execution_count": 117,
     "metadata": {},
     "output_type": "execute_result"
    }
   ],
   "source": [
    "# r=np.matmul(np.linalg.inv(qdash),q)\n",
    "qstar=np.diag(np.diag(cov_matrix))\n",
    "qstar=np.sqrt(qstar)\n",
    "qstar"
   ]
  },
  {
   "cell_type": "code",
   "execution_count": 118,
   "metadata": {
    "collapsed": false
   },
   "outputs": [
    {
     "data": {
      "text/plain": [
       "array([[ 72.35900721, -12.89130408, -12.8023414 ],\n",
       "       [ -4.02398495,   4.14778896,   3.52423995],\n",
       "       [ -6.1252971 ,   5.40186504,  10.47474513]])"
      ]
     },
     "execution_count": 118,
     "metadata": {},
     "output_type": "execute_result"
    }
   ],
   "source": [
    "r=np.matmul(np.linalg.inv(qstar),q,np.linalg.inv(qstar))\n",
    "r"
   ]
  },
  {
   "cell_type": "code",
   "execution_count": 119,
   "metadata": {
    "collapsed": false
   },
   "outputs": [
    {
     "name": "stdout",
     "output_type": "stream",
     "text": [
      "[[ 0.01583333  0.          0.        ]\n",
      " [ 0.          0.1625      0.        ]\n",
      " [ 0.          0.          0.06916667]]\n",
      "[[ 0.01814    -0.03316825 -0.01402034]\n",
      " [-0.01035338  0.10952755  0.03961099]\n",
      " [-0.00670805  0.06071471  0.05011147]]\n"
     ]
    }
   ],
   "source": [
    "diag_matrix=np.diag(np.diag(cov_matrix))\n",
    "print(diag_matrix)\n",
    "predi_cov=np.matmul(diag_matrix,r)\n",
    "predi_cov=np.matmul(predi_cov,diag_matrix)\n",
    "print(predi_cov)"
   ]
  },
  {
   "cell_type": "code",
   "execution_count": null,
   "metadata": {
    "collapsed": true
   },
   "outputs": [],
   "source": []
  },
  {
   "cell_type": "code",
   "execution_count": null,
   "metadata": {
    "collapsed": true
   },
   "outputs": [],
   "source": [
    "                                                                                                                                                                                                                                                                                                                                                                                                                                                                                                                                                                                                                                                                                                                                                                                                                                                                                                                                                                                                                                                                                                                                                                                                                                                                                                                                                                                                                                                                                                                                                                                                                                                                                                                                                                                                                                                                                                                                                                                                                                                                                                                                                                                                                                                                                                                                                                                                                                                                                                                                                                                                                                                                                                                                                                                                                                                                                                                                                                                                                                                                                                                                                                                                                                                                                                                                                                                                                                                                                                                                                                                                                                                                                                                                                                                                                                                                                                                                                                                                                                                                                                                                                                                                                                                                                                                                                                                                                                                                                                                                                                                                                                                                                                                                                                                                                                                                                                                                                                                                                                                                                                                                                                                                                                                                                                                                                                                                                                                                                                                                                                                                                                                                                                                                                                                                                                                                                                                                                                                                                                                                                                                                                                                                                                                                                                                                                                                                                                                                                                                                                                                                                                                                                                                                                                                                                                                                                                                                                                                                                                                                                                                                                                                                                                                                                                                                                                                                                                                                                                                                                                                                                                                                                                                                                                                                                                                                                                                                                                                                                                                                                                                                                                                                                                                                                                                                                                                                                                                                                                                                                                                                                                                                                                                                                                                                                                                                                                                                                                                                                                                                                                                                                                                                                                                                                                                        "
   ]
  }
 ],
 "metadata": {
  "anaconda-cloud": {},
  "kernelspec": {
   "display_name": "Python [conda root]",
   "language": "python",
   "name": "conda-root-py"
  },
  "language_info": {
   "codemirror_mode": {
    "name": "ipython",
    "version": 3
   },
   "file_extension": ".py",
   "mimetype": "text/x-python",
   "name": "python",
   "nbconvert_exporter": "python",
   "pygments_lexer": "ipython3",
   "version": "3.5.2"
  }
 },
 "nbformat": 4,
 "nbformat_minor": 1
}
