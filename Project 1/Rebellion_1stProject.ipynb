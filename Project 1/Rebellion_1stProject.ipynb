{
 "cells": [
  {
   "cell_type": "code",
   "execution_count": 12,
   "metadata": {
    "collapsed": false
   },
   "outputs": [
    {
     "name": "stdout",
     "output_type": "stream",
     "text": [
      "[[ 0.02   0.01  -0.01 ]\n",
      " [ 0.01   0.005 -0.005]\n",
      " [-0.01  -0.005  0.005]]\n"
     ]
    }
   ],
   "source": [
    "import numpy as np\n",
    "import pandas as pd\n",
    "\n",
    "s = pd.Series({'Google':[.2,.3], 'Apple': [.3,.1],'Ebay':[-.1,-.2]})\n",
    "x=s.values\n",
    "\n",
    "# x = np.array([[0, 2 , 3], [1, 1, 6], [2, 0, 9]]).T\n",
    "\n",
    "# np.cov(x)\n",
    "# s = pd.Series({'a':[1,2], 'b':[2,3], 'c':[3,5]})\n",
    "# u=np.array(s.values)\n",
    "# u.astype(int)\n",
    "# print(list(s.values))\n",
    "returns=np.array(list(s.values))\n",
    "cov_matrix=np.cov(np.array(list(s.values)))\n",
    "print(cov)"
   ]
  },
  {
   "cell_type": "code",
   "execution_count": 13,
   "metadata": {
    "collapsed": false
   },
   "outputs": [],
   "source": [
    "# ticker= pd.Series({'Google':[1,2,3], 'Apple': [3,6,9], 'AMZN':[8,10,12]})\n",
    "# cov_matrix=np.cov(np.array(list(ticker.values)))"
   ]
  },
  {
   "cell_type": "code",
   "execution_count": 44,
   "metadata": {
    "collapsed": false
   },
   "outputs": [
    {
     "data": {
      "text/plain": [
       "array([[ 0.02 ,  0.   ,  0.   ],\n",
       "       [ 0.   ,  0.005,  0.   ],\n",
       "       [ 0.   ,  0.   ,  0.005]])"
      ]
     },
     "execution_count": 44,
     "metadata": {},
     "output_type": "execute_result"
    }
   ],
   "source": [
    "diag=cov_matrix.diagonal()\n",
    "diag_matrix=np.diag(np.diag(cov_matrix)) # gives n*n diagonal matrix\n",
    "diag_matrix"
   ]
  },
  {
   "cell_type": "code",
   "execution_count": 15,
   "metadata": {
    "collapsed": false
   },
   "outputs": [
    {
     "name": "stdout",
     "output_type": "stream",
     "text": [
      "Optimization terminated successfully.    (Exit mode 0)\n",
      "            Current function value: -10.7140986901\n",
      "            Iterations: 9\n",
      "            Function evaluations: 58\n",
      "            Gradient evaluations: 9\n",
      "                     Constant Mean - GARCH Model Results                      \n",
      "==============================================================================\n",
      "Dep. Variable:                      y   R-squared:                      -0.034\n",
      "Mean Model:             Constant Mean   Adj. R-squared:                 -0.034\n",
      "Vol Model:                      GARCH   Log-Likelihood:                10.7141\n",
      "Distribution:                  Normal   AIC:                          -13.4282\n",
      "Method:            Maximum Likelihood   BIC:                          -17.0337\n",
      "                                        No. Observations:                    3\n",
      "Date:                Thu, Feb 09 2017   Df Residuals:                       -1\n",
      "Time:                        16:43:59   Df Model:                            4\n",
      "                                  Mean Model                                  \n",
      "==============================================================================\n",
      "                 coef    std err          t      P>|t|        95.0% Conf. Int.\n",
      "------------------------------------------------------------------------------\n",
      "mu         8.7027e-03  2.863e-08  3.040e+05      0.000   [8.703e-03,8.703e-03]\n",
      "                               Volatility Model                               \n",
      "==============================================================================\n",
      "                 coef    std err          t      P>|t|        95.0% Conf. Int.\n",
      "------------------------------------------------------------------------------\n",
      "omega          0.0000  9.947e-11      0.000      1.000  [-1.950e-10,1.950e-10]\n",
      "alpha[1]       0.0000      0.529      0.000      1.000       [ -1.037,  1.037]\n",
      "beta[1]        0.7599      0.750      1.013      0.311       [ -0.710,  2.230]\n",
      "==============================================================================\n",
      "\n",
      "Covariance estimator: robust\n"
     ]
    }
   ],
   "source": [
    "from arch import arch_model\n",
    "garch11 = arch_model(diag, p=1, q=1)\n",
    "res = garch11.fit(update_freq=10)\n",
    "print(res.summary())"
   ]
  },
  {
   "cell_type": "code",
   "execution_count": 22,
   "metadata": {
    "collapsed": false
   },
   "outputs": [],
   "source": [
    "alpha=res.params[2]\n",
    "beta=res.params[3]\n",
    "# std_err=np.random.normal(0, 1, 3) #epselon is the returns "
   ]
  },
  {
   "cell_type": "code",
   "execution_count": 45,
   "metadata": {
    "collapsed": false
   },
   "outputs": [
    {
     "data": {
      "text/plain": [
       "array([[  50.,    0.,    0.],\n",
       "       [   0.,  200.,    0.],\n",
       "       [   0.,    0.,  200.]])"
      ]
     },
     "execution_count": 45,
     "metadata": {},
     "output_type": "execute_result"
    }
   ],
   "source": [
    "np.linalg.inv(diag_matrix)"
   ]
  },
  {
   "cell_type": "code",
   "execution_count": 60,
   "metadata": {
    "collapsed": false
   },
   "outputs": [
    {
     "data": {
      "text/plain": [
       "array([[ 15.,   5.],\n",
       "       [-20., -40.],\n",
       "       [ 40.,  60.]])"
      ]
     },
     "execution_count": 60,
     "metadata": {},
     "output_type": "execute_result"
    }
   ],
   "source": [
    "# esubt=np.linalg.inv(diag_matrix)\n",
    "ret=[.1,.2,.13] # just to see how it works\n",
    "esubt=np.matmul(np.linalg.inv(diag_matrix),returns)\n",
    "# esubt=np.matmul(np.linalg.inv(diag_matrix),returns)\n",
    "esubt"
   ]
  },
  {
   "cell_type": "code",
   "execution_count": 62,
   "metadata": {
    "collapsed": false
   },
   "outputs": [
    {
     "data": {
      "text/plain": [
       "array([[  50.,  100., -100.],\n",
       "       [ 100.,  200., -200.],\n",
       "       [-100., -200.,  200.]])"
      ]
     },
     "execution_count": 62,
     "metadata": {},
     "output_type": "execute_result"
    }
   ],
   "source": [
    "#not sure\n",
    "qdash=np.cov(esubt)\n",
    "q_start=np.ones((3,3))\n",
    "qdash\n",
    "# q_start"
   ]
  },
  {
   "cell_type": "code",
   "execution_count": 63,
   "metadata": {
    "collapsed": false
   },
   "outputs": [
    {
     "data": {
      "text/plain": [
       "array([[ 12.76413125,  24.7683468 , -23.24851542],\n",
       "       [ 24.7683468 ,  48.77677791, -47.25694654],\n",
       "       [-23.24851542, -47.25694654,  48.77677791]])"
      ]
     },
     "execution_count": 63,
     "metadata": {},
     "output_type": "execute_result"
    }
   ],
   "source": [
    "q=((1-alpha-beta)*qdash) + (alpha*np.matmul(esubt,esubt.T)) + ((beta)*q_start)\n",
    "q"
   ]
  },
  {
   "cell_type": "code",
   "execution_count": 73,
   "metadata": {
    "collapsed": false
   },
   "outputs": [
    {
     "data": {
      "text/plain": [
       "array([[ 0.14142136,  0.        ,  0.        ],\n",
       "       [ 0.        ,  0.07071068,  0.        ],\n",
       "       [ 0.        ,  0.        ,  0.07071068]])"
      ]
     },
     "execution_count": 73,
     "metadata": {},
     "output_type": "execute_result"
    }
   ],
   "source": [
    "# r=np.matmul(np.linalg.inv(qdash),q)\n",
    "qstar=np.diag(np.diag(cov_matrix))\n",
    "qstar=np.sqrt(qstar)\n",
    "qstar"
   ]
  },
  {
   "cell_type": "code",
   "execution_count": 76,
   "metadata": {
    "collapsed": false
   },
   "outputs": [
    {
     "data": {
      "text/plain": [
       "array([[  90.25603759,  175.13865982, -164.39182908],\n",
       "       [ 350.27731964,  689.80780854, -668.31414707],\n",
       "       [-328.78365817, -668.31414707,  689.80780854]])"
      ]
     },
     "execution_count": 76,
     "metadata": {},
     "output_type": "execute_result"
    }
   ],
   "source": [
    "r=np.matmul(np.linalg.inv(qstar),q,np.linalg.inv(qstar))\n",
    "r"
   ]
  },
  {
   "cell_type": "code",
   "execution_count": 78,
   "metadata": {
    "collapsed": false
   },
   "outputs": [
    {
     "data": {
      "text/plain": [
       "array([[ 0.,  0.,  0.],\n",
       "       [ 0.,  0.,  0.],\n",
       "       [ 0.,  0.,  0.]])"
      ]
     },
     "execution_count": 78,
     "metadata": {},
     "output_type": "execute_result"
    }
   ],
   "source": [
    "predi_cov=np.matmul(diag_matrix,r,diag_matrix)\n",
    "predi_cov"
   ]
  }
 ],
 "metadata": {
  "anaconda-cloud": {},
  "kernelspec": {
   "display_name": "Python [conda root]",
   "language": "python",
   "name": "conda-root-py"
  },
  "language_info": {
   "codemirror_mode": {
    "name": "ipython",
    "version": 3
   },
   "file_extension": ".py",
   "mimetype": "text/x-python",
   "name": "python",
   "nbconvert_exporter": "python",
   "pygments_lexer": "ipython3",
   "version": "3.5.2"
  }
 },
 "nbformat": 4,
 "nbformat_minor": 1
}
