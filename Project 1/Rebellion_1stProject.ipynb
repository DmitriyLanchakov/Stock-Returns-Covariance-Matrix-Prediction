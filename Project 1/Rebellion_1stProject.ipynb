{
 "cells": [
  {
   "cell_type": "code",
   "execution_count": 147,
   "metadata": {
    "collapsed": false
   },
   "outputs": [
    {
     "name": "stdout",
     "output_type": "stream",
     "text": [
      "[[ 0.02   0.01  -0.01 ]\n",
      " [ 0.01   0.005 -0.005]\n",
      " [-0.01  -0.005  0.005]]\n"
     ]
    }
   ],
   "source": [
    "import numpy as np\n",
    "import pandas as pd\n",
    "import math\n",
    "\n",
    "# s=pd.Series({'Google':np.random.normal(0, .2, 10),\n",
    "#                            'Apple':np.random.normal(0, .2, 10),\n",
    "#                            'Ebay':np.random.normal(0, .2, 10)})\n",
    "s = pd.Series({'Google':[.2,.3,.4,-.2], 'Apple': [.3,.1,.3,.4],'Ebay':[.1,.7,-.1,-.2]})\n",
    "x=s.values\n",
    "\n",
    "# x = np.array([[0, 2 , 3], [1, 1, 6], [2, 0, 9]]).T\n",
    "\n",
    "# np.cov(x)\n",
    "# s = pd.Series({'a':[1,2], 'b':[2,3], 'c':[3,5]})\n",
    "# u=np.array(s.values)\n",
    "# u.astype(int)\n",
    "# print(list(s.values))\n",
    "returns=np.array(list(s.values))\n",
    "cov_matrix=np.cov(np.array(list(s.values)))\n",
    "print(cov)"
   ]
  },
  {
   "cell_type": "code",
   "execution_count": 148,
   "metadata": {
    "collapsed": false
   },
   "outputs": [],
   "source": [
    "# ticker= pd.Series({'Google':[1,2,3], 'Apple': [3,6,9], 'AMZN':[8,10,12]})\n",
    "# cov_matrix=np.cov(np.array(list(ticker.values)))"
   ]
  },
  {
   "cell_type": "code",
   "execution_count": 149,
   "metadata": {
    "collapsed": false
   },
   "outputs": [
    {
     "data": {
      "text/plain": [
       "array([[ 0.01583333,  0.        ,  0.        ],\n",
       "       [ 0.        ,  0.1625    ,  0.        ],\n",
       "       [ 0.        ,  0.        ,  0.06916667]])"
      ]
     },
     "execution_count": 149,
     "metadata": {},
     "output_type": "execute_result"
    }
   ],
   "source": [
    "diag=cov_matrix.diagonal()\n",
    "diag_matrix=np.diag(np.diag(cov_matrix)) # gives n*n diagonal matrix\n",
    "diag_matrix"
   ]
  },
  {
   "cell_type": "code",
   "execution_count": 150,
   "metadata": {
    "collapsed": false
   },
   "outputs": [
    {
     "name": "stdout",
     "output_type": "stream",
     "text": [
      "Optimization terminated successfully.    (Exit mode 0)\n",
      "            Current function value: -4.19895560621\n",
      "            Iterations: 6\n",
      "            Function evaluations: 41\n",
      "            Gradient evaluations: 6\n",
      "                     Constant Mean - GARCH Model Results                      \n",
      "==============================================================================\n",
      "Dep. Variable:                      y   R-squared:                      -0.001\n",
      "Mean Model:             Constant Mean   Adj. R-squared:                 -0.001\n",
      "Vol Model:                      GARCH   Log-Likelihood:                4.19896\n",
      "Distribution:                  Normal   AIC:                         -0.397911\n",
      "Method:            Maximum Likelihood   BIC:                          -4.00346\n",
      "                                        No. Observations:                    3\n",
      "Date:                Thu, Feb 09 2017   Df Residuals:                       -1\n",
      "Time:                        19:41:50   Df Model:                            4\n",
      "                                  Mean Model                                  \n",
      "==============================================================================\n",
      "                 coef    std err          t      P>|t|        95.0% Conf. Int.\n",
      "------------------------------------------------------------------------------\n",
      "mu             0.0847  3.838e-03     22.077 5.300e-108   [7.720e-02,9.224e-02]\n",
      "                               Volatility Model                               \n",
      "==============================================================================\n",
      "                 coef    std err          t      P>|t|        95.0% Conf. Int.\n",
      "------------------------------------------------------------------------------\n",
      "omega      1.0445e-10  7.165e-03  1.458e-08      1.000  [-1.404e-02,1.404e-02]\n",
      "alpha[1]   2.2427e-10      1.169  1.919e-10      1.000       [ -2.291,  2.291]\n",
      "beta[1]        0.8696      1.435      0.606      0.544       [ -1.942,  3.681]\n",
      "==============================================================================\n",
      "\n",
      "Covariance estimator: robust\n"
     ]
    }
   ],
   "source": [
    "from arch import arch_model\n",
    "garch11 = arch_model(diag, p=1, q=1)\n",
    "res = garch11.fit(update_freq=10)\n",
    "print(res.summary())"
   ]
  },
  {
   "cell_type": "code",
   "execution_count": 151,
   "metadata": {
    "collapsed": false
   },
   "outputs": [],
   "source": [
    "alpha=res.params[2]\n",
    "beta=res.params[3]\n",
    "# std_err=np.random.normal(0, 1, 3) #epselon is the returns "
   ]
  },
  {
   "cell_type": "code",
   "execution_count": 152,
   "metadata": {
    "collapsed": false
   },
   "outputs": [
    {
     "data": {
      "text/plain": [
       "array([[ 18.94736842,   6.31578947,  18.94736842,  25.26315789],\n",
       "       [  0.61538462,   4.30769231,  -0.61538462,  -1.23076923],\n",
       "       [  2.89156627,   4.3373494 ,   5.78313253,  -2.89156627]])"
      ]
     },
     "execution_count": 152,
     "metadata": {},
     "output_type": "execute_result"
    }
   ],
   "source": [
    "# esubt=np.linalg.inv(diag_matrix)\n",
    "# ret=[.1,.2,.13] # just to see how it works\n",
    "esubt=np.matmul(np.linalg.inv(diag_matrix),returns)\n",
    "# esubt=np.matmul(np.linalg.inv(diag_matrix),returns)\n",
    "esubt"
   ]
  },
  {
   "cell_type": "code",
   "execution_count": 153,
   "metadata": {
    "collapsed": false
   },
   "outputs": [
    {
     "data": {
      "text/plain": [
       "array([[ 63.15789474, -19.10931174, -19.02346227],\n",
       "       [-19.10931174,   6.15384615,   4.22613531],\n",
       "       [-19.02346227,   4.22613531,  14.45783133]])"
      ]
     },
     "execution_count": 153,
     "metadata": {},
     "output_type": "execute_result"
    }
   ],
   "source": [
    "#not sure\n",
    "qdash=np.cov(esubt)\n",
    "q_start=np.ones((3,3))\n",
    "qdash\n",
    "# q_start"
   ]
  },
  {
   "cell_type": "code",
   "execution_count": 154,
   "metadata": {
    "collapsed": false
   },
   "outputs": [
    {
     "data": {
      "text/plain": [
       "array([[ 9.10497541, -1.62212019, -1.61092597],\n",
       "       [-1.62212019,  1.67202718,  1.42066654],\n",
       "       [-1.61092597,  1.42066654,  2.7548115 ]])"
      ]
     },
     "execution_count": 154,
     "metadata": {},
     "output_type": "execute_result"
    }
   ],
   "source": [
    "q=((1-alpha-beta)*qdash) + (alpha*np.matmul(esubt,esubt.T)) + ((beta)*q_start)\n",
    "q"
   ]
  },
  {
   "cell_type": "code",
   "execution_count": 155,
   "metadata": {
    "collapsed": false
   },
   "outputs": [
    {
     "data": {
      "text/plain": [
       "array([[ 0.12583057,  0.        ,  0.        ],\n",
       "       [ 0.        ,  0.40311289,  0.        ],\n",
       "       [ 0.        ,  0.        ,  0.26299556]])"
      ]
     },
     "execution_count": 155,
     "metadata": {},
     "output_type": "execute_result"
    }
   ],
   "source": [
    "# r=np.matmul(np.linalg.inv(qdash),q)\n",
    "qstar=np.diag(np.diag(cov_matrix))\n",
    "qstar=np.sqrt(qstar)\n",
    "qstar"
   ]
  },
  {
   "cell_type": "code",
   "execution_count": 156,
   "metadata": {
    "collapsed": false
   },
   "outputs": [
    {
     "data": {
      "text/plain": [
       "array([[ 72.35900721, -12.89130408, -12.8023414 ],\n",
       "       [ -4.02398495,   4.14778896,   3.52423995],\n",
       "       [ -6.1252971 ,   5.40186504,  10.47474513]])"
      ]
     },
     "execution_count": 156,
     "metadata": {},
     "output_type": "execute_result"
    }
   ],
   "source": [
    "r=np.matmul(np.linalg.inv(qstar),q,np.linalg.inv(qstar))\n",
    "r"
   ]
  },
  {
   "cell_type": "code",
   "execution_count": 157,
   "metadata": {
    "collapsed": false
   },
   "outputs": [
    {
     "name": "stdout",
     "output_type": "stream",
     "text": [
      "[[ 0.01583333  0.          0.        ]\n",
      " [ 0.          0.1625      0.        ]\n",
      " [ 0.          0.          0.06916667]]\n",
      "[[ 0.01814    -0.03316825 -0.01402034]\n",
      " [-0.01035338  0.10952755  0.03961099]\n",
      " [-0.00670805  0.06071471  0.05011147]]\n"
     ]
    }
   ],
   "source": [
    "diag_matrix=np.diag(np.diag(cov_matrix))\n",
    "print(diag_matrix)\n",
    "predi_cov=np.matmul(diag_matrix,r)\n",
    "predi_cov=np.matmul(predi_cov,diag_matrix)\n",
    "print(predi_cov)"
   ]
  },
  {
   "cell_type": "code",
   "execution_count": 252,
   "metadata": {
    "collapsed": false
   },
   "outputs": [
    {
     "name": "stdout",
     "output_type": "stream",
     "text": [
      "Iteration:     10,   Func. Count:     73,   Neg. LLF: -7.671355243057597\n",
      "Optimization terminated successfully.    (Exit mode 0)\n",
      "            Current function value: -7.67136033697\n",
      "            Iterations: 15\n",
      "            Function evaluations: 88\n",
      "            Gradient evaluations: 11\n",
      "[array([[ 4.92369417, -2.29398584, -0.81756139],\n",
      "       [-2.05152054,  8.80097191, -2.93300965],\n",
      "       [ 8.42631211, -1.67835338,  7.74382541]])]\n",
      "Iteration:     10,   Func. Count:     73,   Neg. LLF: -7.671355243057597\n",
      "Optimization terminated successfully.    (Exit mode 0)\n",
      "            Current function value: -7.67136033697\n",
      "            Iterations: 15\n",
      "            Function evaluations: 88\n",
      "            Gradient evaluations: 11\n",
      "[[ 0.08660642 -0.02161622  0.04084096]\n",
      " [-0.03704704  0.04554062 -0.04586034]\n",
      " [ 0.06048639 -0.03963011  0.05371141]]\n",
      "4\n",
      "\n",
      "\n",
      "Iteration:     10,   Func. Count:     73,   Neg. LLF: -7.671355243057597\n",
      "Optimization terminated successfully.    (Exit mode 0)\n",
      "            Current function value: -7.67136033697\n",
      "            Iterations: 15\n",
      "            Function evaluations: 88\n",
      "            Gradient evaluations: 11\n",
      "[[ 0.13592333 -0.04158001  0.06430051]\n",
      " [-0.07126205  0.07571782 -0.08229558]\n",
      " [ 0.09523051 -0.07111554  0.08834879]]\n",
      "5\n",
      "\n",
      "\n",
      "Iteration:     10,   Func. Count:     73,   Neg. LLF: -7.671355243057597\n",
      "Optimization terminated successfully.    (Exit mode 0)\n",
      "            Current function value: -7.67136033697\n",
      "            Iterations: 15\n",
      "            Function evaluations: 88\n",
      "            Gradient evaluations: 11\n",
      "[[ 0.17139361 -0.0559386   0.08117336]\n",
      " [-0.09587056  0.09742222 -0.10850097]\n",
      " [ 0.12021958 -0.09376086  0.11326109]]\n",
      "6\n",
      "\n",
      "\n",
      "Iteration:     10,   Func. Count:     73,   Neg. LLF: -7.671355243057597\n",
      "Optimization terminated successfully.    (Exit mode 0)\n",
      "            Current function value: -7.67136033697\n",
      "            Iterations: 15\n",
      "            Function evaluations: 88\n",
      "            Gradient evaluations: 11\n",
      "[[ 0.19690496 -0.06626575  0.09330885]\n",
      " [-0.11356979  0.11303271 -0.12734871]\n",
      " [ 0.13819252 -0.1100481   0.13117881]]\n",
      "7\n",
      "\n",
      "\n",
      "Iteration:     10,   Func. Count:     73,   Neg. LLF: -7.671355243057597\n",
      "Optimization terminated successfully.    (Exit mode 0)\n",
      "            Current function value: -7.67136033697\n",
      "            Iterations: 15\n",
      "            Function evaluations: 88\n",
      "            Gradient evaluations: 11\n",
      "[[ 0.21525354 -0.07369337  0.10203708]\n",
      " [-0.12629963  0.12426027 -0.14090461]\n",
      " [ 0.15111922 -0.12176239  0.1440658 ]]\n",
      "8\n",
      "\n",
      "\n",
      "Iteration:     10,   Func. Count:     73,   Neg. LLF: -7.671355243057597\n",
      "Optimization terminated successfully.    (Exit mode 0)\n",
      "            Current function value: -7.67136033697\n",
      "            Iterations: 15\n",
      "            Function evaluations: 88\n",
      "            Gradient evaluations: 11\n",
      "[[ 0.22845041 -0.07903555  0.1083147 ]\n",
      " [-0.13545534  0.13233548 -0.15065444]\n",
      " [ 0.16041652 -0.13018769  0.15333454]]\n",
      "9\n",
      "\n",
      "\n"
     ]
    }
   ],
   "source": [
    "stock_returns = pd.Series({'Google':np.random.normal(0, .2, 10),\n",
    "                           'Apple':np.random.normal(0, .2, 10),\n",
    "                           'Ebay':np.random.normal(0, .2, 10)})\n",
    "\n",
    "\n",
    "returns=np.array(list(stock_returns.values))\n",
    "returns=returns[:,0:3]\n",
    "\n",
    "#inititial condition setting esubt and q\n",
    "esubt=[]\n",
    "q_list=[]\n",
    "\n",
    "cov_matrix=np.cov(returns)\n",
    "diag=cov_matrix.diagonal()\n",
    "diag_matrix=np.diag(np.diag(cov_matrix))\n",
    "garch11 = arch_model(diag, p=1, q=1)\n",
    "res = garch11.fit(update_freq=10)\n",
    "alpha=res.params[2]\n",
    "beta=res.params[3]\n",
    "\n",
    "esubt.append(np.matmul(np.linalg.inv(diag_matrix),returns))\n",
    "q_list.append(np.ones((3,3)))\n",
    "pred_cov=[]\n",
    "\n",
    "print(esubt)\n",
    "\n",
    "def dccGARCH(returns):    \n",
    "    cov_matrix=np.cov(returns)\n",
    "    diag=cov_matrix.diagonal()\n",
    "    diag_matrix=np.diag(np.diag(cov_matrix))\n",
    "    \n",
    "    garch11 = arch_model(diag, p=1, q=1)\n",
    "    res = garch11.fit(update_freq=10)\n",
    "    alpha=res.params[2]\n",
    "    beta=res.params[3]    \n",
    "    \n",
    "    esubt.append(np.matmul(np.linalg.inv(diag_matrix),returns))\n",
    "#     print(esubt)\n",
    "#     print('\\n')\n",
    "#     print(np.matmul(esubt[-2],esubt[-2].T))\n",
    "    qdash=np.cov(esubt[-2])\n",
    "#    q_start=np.ones((3,3))\n",
    "    \n",
    "    q_list.append(((1-alpha-beta)*qdash) + \n",
    "             (alpha*np.matmul(esubt[-2],esubt[-2].T)) + ((beta)*q_list[-1]))\n",
    "    \n",
    "#     print(\"&&&&&\")\n",
    "    \n",
    "    qstar=np.diag(np.diag(cov_matrix))\n",
    "    qstar=np.sqrt(qstar)\n",
    "    \n",
    "    r=np.matmul(np.linalg.inv(qstar),q_list[-1],np.linalg.inv(qstar))\n",
    "    \n",
    "    pred_cov_temp=np.matmul(diag_matrix,r)\n",
    "    pred_cov.append(np.matmul(pred_cov_temp,diag_matrix))\n",
    "    \n",
    "    print(pred_cov[-1])\n",
    "    print(i)\n",
    "    print('\\n')\n",
    "    \n",
    "\n",
    "# dccGARCH(returns[:,0:4])\n",
    "for i in range(4,10):\n",
    "    dccGARCH(returns[:,0:i])"
   ]
  },
  {
   "cell_type": "code",
   "execution_count": 253,
   "metadata": {
    "collapsed": false
   },
   "outputs": [
    {
     "data": {
      "text/plain": [
       "array([[ 0.04037947, -0.01532836,  0.01774043],\n",
       "       [-0.01532836,  0.02028582, -0.00258662],\n",
       "       [ 0.01774043, -0.00258662,  0.03162873]])"
      ]
     },
     "execution_count": 253,
     "metadata": {},
     "output_type": "execute_result"
    }
   ],
   "source": [
    "returns=np.array(list(stock_returns.values))\n",
    "returns=returns[:,0:9]\n",
    "np.cov(returns)"
   ]
  },
  {
   "cell_type": "code",
   "execution_count": 254,
   "metadata": {
    "collapsed": true
   },
   "outputs": [],
   "source": [
    "def simulate_GARCH(T, a0, a1, b1, sigma1):\n",
    "    \n",
    "    # Initialize our values\n",
    "    X = np.ndarray(T)\n",
    "    sigma = np.ndarray(T)\n",
    "    sigma[0] = sigma1\n",
    "    \n",
    "    for t in range(1, T):\n",
    "        # Draw the next x_t\n",
    "        X[t - 1] = sigma[t - 1] * np.random.normal(0, 1)\n",
    "        # Draw the next sigma_t\n",
    "        sigma[t] = math.sqrt(a0 + b1 * sigma[t - 1]**2 + a1 * X[t - 1]**2)\n",
    "        \n",
    "    X[T - 1] = sigma[T - 1] * np.random.normal(0, 1)    \n",
    "    \n",
    "    return X, sigma\n"
   ]
  },
  {
   "cell_type": "code",
   "execution_count": 256,
   "metadata": {
    "collapsed": false
   },
   "outputs": [
    {
     "name": "stdout",
     "output_type": "stream",
     "text": [
      "\n",
      "\n",
      "Optimization terminated successfully.    (Exit mode 0)\n",
      "            Current function value: -3.07394744926\n",
      "            Iterations: 9\n",
      "            Function evaluations: 60\n",
      "            Gradient evaluations: 9\n",
      "[  3.38643579e-01  -1.57776569e-01  -5.62305261e-02  -5.08032898e-03\n",
      "   1.66075324e-04   3.14044538e-01   2.94738921e-01   3.07734944e-01\n",
      "  -6.69174505e-02   8.92326552e-02]\n",
      "\n",
      "\n",
      "[  3.38643579e-01  -1.57776569e-01  -5.62305261e-02  -5.08032898e-03\n",
      "   1.66075324e-04   3.14044538e-01   2.94738921e-01   3.07734944e-01\n",
      "  -6.69174505e-02   8.92326552e-02  -5.17208194e-03   2.53082341e-01\n",
      "  -6.71535463e-02   4.69033755e-02  -2.21097007e-02]\n",
      "\n",
      "\n",
      "Iteration:     10,   Func. Count:     68,   Neg. LLF: -6.3091297331659675\n",
      "Optimization terminated successfully.    (Exit mode 0)\n",
      "            Current function value: -6.30913288858\n",
      "            Iterations: 11\n",
      "            Function evaluations: 74\n",
      "            Gradient evaluations: 11\n",
      "[-0.04803749  0.20607963 -0.06867804 -0.00248202 -0.14289903 -0.28806574\n",
      " -0.16322662  0.05242935  0.0243203   0.02908957]\n",
      "\n",
      "\n",
      "[-0.04803749  0.20607963 -0.06867804 -0.00248202 -0.14289903 -0.28806574\n",
      " -0.16322662  0.05242935  0.0243203   0.02908957 -0.05969733 -0.0009569\n",
      "  0.05970336  0.06527287 -0.12408331]\n",
      "\n",
      "\n",
      "Optimization terminated successfully.    (Exit mode 0)\n",
      "            Current function value: -4.28490499894\n",
      "            Iterations: 8\n",
      "            Function evaluations: 54\n",
      "            Gradient evaluations: 8\n",
      "[ 0.26422018 -0.05262739  0.24281974 -0.22370618  0.07972879 -0.02467553\n",
      "  0.11910486  0.29217336 -0.0827677   0.07480088]\n",
      "\n",
      "\n",
      "[ 0.26422018 -0.05262739  0.24281974 -0.22370618  0.07972879 -0.02467553\n",
      "  0.11910486  0.29217336 -0.0827677   0.07480088  0.3194455   0.08329908\n",
      " -0.00571901 -0.11744095 -0.19482124]\n"
     ]
    }
   ],
   "source": [
    "returns=np.array(list(stock_returns.values))\n",
    "# returns[1]\n",
    "i=0\n",
    "for n in returns:\n",
    "#     print(n)\n",
    "    print('\\n')\n",
    "# print(returns[1])\n",
    "    garch11 = arch_model(n, p=1, q=1)\n",
    "    res = garch11.fit(update_freq=10)\n",
    "    omega=res.params[1]\n",
    "    alpha=res.params[2]\n",
    "    beta=res.params[3]\n",
    "    # sig_ma=np.sqrt(np.mean(returns[1]))\n",
    "    sig_ma=np.std(n)  # Assumption that I am making\n",
    "    # print(sigma)\n",
    "    # sig_ma=0\n",
    "    # sigma = math.sqrt(omega / (1 - alpha - beta))\n",
    "    print(n)\n",
    "    print('\\n')\n",
    "    return_forecast,sigma_forecast=simulate_GARCH(5,omega,alpha,beta,sig_ma)\n",
    "    n=np.append(n,return_forecast)\n",
    "    # print(res.summary())\n",
    "    print(n)"
   ]
  },
  {
   "cell_type": "code",
   "execution_count": 240,
   "metadata": {
    "collapsed": false
   },
   "outputs": [
    {
     "data": {
      "text/plain": [
       "array([ 0.04201855,  0.06044578, -0.68989632, -0.16610597, -0.00166613])"
      ]
     },
     "execution_count": 240,
     "metadata": {},
     "output_type": "execute_result"
    }
   ],
   "source": [
    "import math\n",
    "omega=res.params[1]\n",
    "alpha=res.params[2]\n",
    "beta=res.params[3]\n",
    "# sig_ma=np.sqrt(np.mean(returns[1]))\n",
    "sig_ma=np.std(returns[1])  # Assumption that I am making\n",
    "# print(sigma)\n",
    "# sig_ma=0\n",
    "# sigma = math.sqrt(omega / (1 - alpha - beta))\n",
    "return_forecast,sigma_forecast=simulate_GARCH(5,omega,alpha,beta,sig_ma)\n",
    "return_forecast\n"
   ]
  },
  {
   "cell_type": "code",
   "execution_count": 17,
   "metadata": {
    "collapsed": false
   },
   "outputs": [],
   "source": [
    "# -*- coding: utf-8 -*-\n",
    "\"\"\"\n",
    "Created on Tue Feb  7 11:57:13 2017\n",
    "\n",
    "@author: saeed\n",
    "\"\"\"\n",
    "import numpy as np\n",
    "import pandas as pd\n",
    "from arch import arch_model\n",
    "import math\n",
    "    \n",
    "esubt=[]\n",
    "q_list=[]\n",
    "pred_cov=[]\n",
    "new_returns=[]\n",
    "\n",
    "def covariance_prediction(stock_returns):\n",
    "    \n",
    "    returns=np.array(list(stock_returns.values))    \n",
    "    initial_numberof_returns=returns[1].size # size of any of the security\n",
    "    \n",
    "    \n",
    "    #inititial condition setting esubt and q\n",
    "    \n",
    "    cov_matrix=np.cov(returns)\n",
    "    diag=cov_matrix.diagonal()\n",
    "    diag_matrix=np.diag(np.diag(cov_matrix))\n",
    "    garch11 = arch_model(diag, p=1, q=1)\n",
    "    res = garch11.fit(update_freq=10)\n",
    "    alpha=res.params[2]\n",
    "    beta=res.params[3]\n",
    "    \n",
    "    esubt.append(np.matmul(np.linalg.inv(diag_matrix),returns))\n",
    "    q_list.append(np.ones((stock_returns.size,stock_returns.size)))    \n",
    "\n",
    "    \n",
    "\n",
    "#performing garch11 to forecast the future returns which in turn is used for the dcc garch\n",
    "    periods_to_predict=5 #setting the number of periods to predict\n",
    "    for n in returns:\n",
    "        garch11 = arch_model(n, p=1, q=1)\n",
    "        res = garch11.fit(update_freq=10)\n",
    "        omega=res.params[1]\n",
    "        alpha=res.params[2]\n",
    "        beta=res.params[3]\n",
    "        sig_ma=np.std(n)  # 1st assumption\n",
    "        return_forecast,sigma_forecast=simulate_GARCH(periods_to_predict,omega,alpha,beta,sig_ma)\n",
    "        n=np.append(n,return_forecast)\n",
    "        new_returns.append(n)\n",
    "        \n",
    "    for i in range(initial_numberof_returns,new_returns[1].size): \n",
    "        dccGARCH(returns[:,0:i]) #Assumption 2, selecting the range of returns\n",
    "    \n",
    "    return(pred_cov)\n",
    "    \n",
    "##############\n",
    "#garch 1,1 forecasting\n",
    "def simulate_GARCH(T, a0, a1, b1, sigma1):\n",
    "    \n",
    "    # Initialize our values\n",
    "    X = np.ndarray(T)\n",
    "    sigma = np.ndarray(T)\n",
    "    sigma[0] = sigma1\n",
    "    \n",
    "    for t in range(1, T):\n",
    "        # Draw the next x_t\n",
    "        X[t - 1] = sigma[t - 1] * np.random.normal(0, 1)\n",
    "        # Draw the next sigma_t\n",
    "        sigma[t] = math.sqrt(a0 + b1 * sigma[t - 1]**2 + a1 * X[t - 1]**2)\n",
    "        \n",
    "    X[T - 1] = sigma[T - 1] * np.random.normal(0, 1)    \n",
    "    \n",
    "    return X, sigma\n",
    "    \n",
    "def dccGARCH(returns):    \n",
    "    cov_matrix=np.cov(returns)\n",
    "    diag=cov_matrix.diagonal()\n",
    "    diag_matrix=np.diag(np.diag(cov_matrix))\n",
    "    \n",
    "    garch11 = arch_model(diag, p=1, q=1)\n",
    "    res = garch11.fit(update_freq=10)\n",
    "    alpha=res.params[2]\n",
    "    beta=res.params[3]    \n",
    "    \n",
    "    esubt.append(np.matmul(np.linalg.inv(diag_matrix),returns))\n",
    "    qdash=np.cov(esubt[-2])\n",
    "    q_list.append(((1-alpha-beta)*qdash) + \n",
    "             (alpha*np.matmul(esubt[-2],esubt[-2].T)) + ((beta)*q_list[-1]))\n",
    "    \n",
    "    qstar=np.diag(np.diag(cov_matrix))\n",
    "    qstar=np.sqrt(qstar)\n",
    "    \n",
    "    r=np.matmul(np.linalg.inv(qstar),q_list[-1],np.linalg.inv(qstar))\n",
    "    \n",
    "    pred_cov_temp=np.matmul(diag_matrix,r)\n",
    "    pred_cov.append(np.matmul(pred_cov_temp,diag_matrix))\n",
    "   "
   ]
  },
  {
   "cell_type": "code",
   "execution_count": 18,
   "metadata": {
    "collapsed": false
   },
   "outputs": [
    {
     "name": "stdout",
     "output_type": "stream",
     "text": [
      "Iteration:     10,   Func. Count:     68,   Neg. LLF: -9.604280165541626\n",
      "Optimization terminated successfully.    (Exit mode 0)\n",
      "            Current function value: -9.60428165557\n",
      "            Iterations: 11\n",
      "            Function evaluations: 74\n",
      "            Gradient evaluations: 11\n",
      "Optimization terminated successfully.    (Exit mode 0)\n",
      "            Current function value: -7.12137323696\n",
      "            Iterations: 9\n",
      "            Function evaluations: 59\n",
      "            Gradient evaluations: 9\n",
      "Optimization terminated successfully.    (Exit mode 0)\n",
      "            Current function value: -1.47839438947\n",
      "            Iterations: 9\n",
      "            Function evaluations: 59\n",
      "            Gradient evaluations: 9\n",
      "Iteration:     10,   Func. Count:     66,   Neg. LLF: -1.2524323436582045\n",
      "Optimization terminated successfully.    (Exit mode 0)\n",
      "            Current function value: -1.2524378751\n",
      "            Iterations: 11\n",
      "            Function evaluations: 72\n",
      "            Gradient evaluations: 11\n",
      "Optimization terminated successfully.    (Exit mode 0)\n",
      "            Current function value: -0.534050641115\n",
      "            Iterations: 8\n",
      "            Function evaluations: 54\n",
      "            Gradient evaluations: 8\n",
      "Iteration:     10,   Func. Count:     68,   Neg. LLF: -9.604280165541626\n",
      "Optimization terminated successfully.    (Exit mode 0)\n",
      "            Current function value: -9.60428165557\n",
      "            Iterations: 11\n",
      "            Function evaluations: 74\n",
      "            Gradient evaluations: 11\n",
      "Iteration:     10,   Func. Count:     68,   Neg. LLF: -9.604280165541626\n",
      "Optimization terminated successfully.    (Exit mode 0)\n",
      "            Current function value: -9.60428165557\n",
      "            Iterations: 11\n",
      "            Function evaluations: 74\n",
      "            Gradient evaluations: 11\n",
      "Iteration:     10,   Func. Count:     68,   Neg. LLF: -9.604280165541626\n",
      "Optimization terminated successfully.    (Exit mode 0)\n",
      "            Current function value: -9.60428165557\n",
      "            Iterations: 11\n",
      "            Function evaluations: 74\n",
      "            Gradient evaluations: 11\n",
      "Iteration:     10,   Func. Count:     68,   Neg. LLF: -9.604280165541626\n",
      "Optimization terminated successfully.    (Exit mode 0)\n",
      "            Current function value: -9.60428165557\n",
      "            Iterations: 11\n",
      "            Function evaluations: 74\n",
      "            Gradient evaluations: 11\n",
      "Iteration:     10,   Func. Count:     68,   Neg. LLF: -9.604280165541626\n",
      "Optimization terminated successfully.    (Exit mode 0)\n",
      "            Current function value: -9.60428165557\n",
      "            Iterations: 11\n",
      "            Function evaluations: 74\n",
      "            Gradient evaluations: 11\n"
     ]
    }
   ],
   "source": [
    "s= pd.Series({'Google':np.random.normal(0, .2, 10),\n",
    "                          'Apple':np.random.normal(0, .2, 10),\n",
    "                          'Ebay':np.random.normal(0, .2, 10)})\n",
    "s=pd.Series({'Google':[.1,.2,-.2,.4],\n",
    "                          'Apple':[.01,.04,.02,-.07],\n",
    "                          'Ebay':[.07,-.17,.3,.02],\n",
    "                        'Exxon':[.1,.2,.3,-.21]})\n",
    "\n",
    "p=covariance_prediction(s)"
   ]
  },
  {
   "cell_type": "code",
   "execution_count": 19,
   "metadata": {
    "collapsed": false
   },
   "outputs": [
    {
     "data": {
      "text/plain": [
       "array([[ 0.0224541 , -0.00383043,  0.09627465, -0.07195966],\n",
       "       [-0.00095718,  0.09348908,  0.03490703, -0.07865717],\n",
       "       [ 0.02107526,  0.03057931,  0.10806054, -0.09257085],\n",
       "       [-0.01390393, -0.06081917, -0.08170743,  0.12427946]])"
      ]
     },
     "execution_count": 19,
     "metadata": {},
     "output_type": "execute_result"
    }
   ],
   "source": [
    "p[-1]"
   ]
  },
  {
   "cell_type": "code",
   "execution_count": null,
   "metadata": {
    "collapsed": true
   },
   "outputs": [],
   "source": [
    "array([[ 0.03663578,  0.02258372,  0.15589411, -0.11955404],\n",
    "       [ 0.00474341,  0.17724119, -0.03757405,  0.11305033],\n",
    "       [ 0.03412642, -0.03916105,  0.1698341 , -0.16008661],\n",
    "       [-0.02310004,  0.10399811, -0.14130005,  0.19325027]])"
   ]
  },
  {
   "cell_type": "code",
   "execution_count": null,
   "metadata": {
    "collapsed": true
   },
   "outputs": [],
   "source": [
    "array([[ 0.0224541 , -0.00383043,  0.09627465, -0.07195966],\n",
    "       [-0.00095718,  0.09348908,  0.03490703, -0.07865717],\n",
    "       [ 0.02107526,  0.03057931,  0.10806054, -0.09257085],\n",
    "       [-0.01390393, -0.06081917, -0.08170743,  0.12427946]])"
   ]
  }
 ],
 "metadata": {
  "anaconda-cloud": {},
  "kernelspec": {
   "display_name": "Python [conda root]",
   "language": "python",
   "name": "conda-root-py"
  },
  "language_info": {
   "codemirror_mode": {
    "name": "ipython",
    "version": 3
   },
   "file_extension": ".py",
   "mimetype": "text/x-python",
   "name": "python",
   "nbconvert_exporter": "python",
   "pygments_lexer": "ipython3",
   "version": "3.5.2"
  }
 },
 "nbformat": 4,
 "nbformat_minor": 1
}
